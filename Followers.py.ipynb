{
 "cells": [
  {
   "cell_type": "code",
   "execution_count": 3,
   "metadata": {
    "scrolled": true
   },
   "outputs": [
    {
     "name": "stdout",
     "output_type": "stream",
     "text": [
      "Collecting twitter\n",
      "  Using cached https://files.pythonhosted.org/packages/85/e2/f602e3f584503f03e0389491b251464f8ecfe2596ac86e6b9068fe7419d3/twitter-1.18.0-py2.py3-none-any.whl\n",
      "Installing collected packages: twitter\n",
      "Successfully installed twitter-1.18.0\n",
      "\u001b[33mYou are using pip version 9.0.1, however version 10.0.1 is available.\n",
      "You should consider upgrading via the 'pip install --upgrade pip' command.\u001b[0m\n"
     ]
    },
    {
     "ename": "ModuleNotFoundError",
     "evalue": "No module named 'twitter'",
     "output_type": "error",
     "traceback": [
      "\u001b[0;31m---------------------------------------------------------------------------\u001b[0m",
      "\u001b[0;31mModuleNotFoundError\u001b[0m                       Traceback (most recent call last)",
      "\u001b[0;32m<ipython-input-3-0dab94ace5b4>\u001b[0m in \u001b[0;36m<module>\u001b[0;34m()\u001b[0m\n\u001b[1;32m      4\u001b[0m \u001b[0;31m#from tweepy import OAuthHandler\u001b[0m\u001b[0;34m\u001b[0m\u001b[0;34m\u001b[0m\u001b[0m\n\u001b[1;32m      5\u001b[0m \u001b[0;31m#from tweepy import stream\u001b[0m\u001b[0;34m\u001b[0m\u001b[0;34m\u001b[0m\u001b[0m\n\u001b[0;32m----> 6\u001b[0;31m \u001b[0;32mfrom\u001b[0m \u001b[0mtwitter\u001b[0m \u001b[0;32mimport\u001b[0m \u001b[0;34m*\u001b[0m\u001b[0;34m\u001b[0m\u001b[0m\n\u001b[0m\u001b[1;32m      7\u001b[0m \u001b[0;31m#from tkinter import *\u001b[0m\u001b[0;34m\u001b[0m\u001b[0;34m\u001b[0m\u001b[0m\n\u001b[1;32m      8\u001b[0m \u001b[0;34m\u001b[0m\u001b[0m\n",
      "\u001b[0;31mModuleNotFoundError\u001b[0m: No module named 'twitter'"
     ]
    }
   ],
   "source": [
    "import sys\n",
    "!{sys.executable} -m pip install --user twitter\n",
    "#from tweepy.streaming import streamListener\n",
    "#from tweepy import OAuthHandler\n",
    "#from tweepy import stream\n",
    "from twitter import *\n",
    "#from tkinter import *\n",
    "\n",
    "ACCESS_TOKEN = \"988216913284255744-qBZJ3IAkrjBAPLaMRMjhkQrLtKIzn31\"\n",
    "ACCESS_TOKEN_SECRET = \"WpcZY8dTZAQVWEJkZBlS8hMQaR9ckqOs8ErFML2x2bVAk\"\n",
    "CONSUMER_KEY = \"sRKZDEri6WsOhDmJmxxbnLvyC\"\n",
    "CONSUMER_SECRET = \"OJO5n71PvgNE6B6JLePAlRTyOlDoTFFpWziUEE4stu0pbNNLHo\"\n",
    "\n",
    "def showTweets(x, num):\n",
    "    # display a number of new tweets and usernames\n",
    "    for i in range(0, num):\n",
    "        line1 = (x[i]['user']['screen_name'])\n",
    "        line2 = (x[i]['text'])\n",
    "        w = Label(master, text=line1 + \"\\n\" + line2 + \"\\n\\n\")\n",
    "        w.pack()\n",
    "\n",
    "def getTweets():\n",
    "\n",
    "    x = t.statuses.home_timeline(screen_name=\"putscreennamehere\")\n",
    "    return x\n",
    "\n",
    "\n",
    "def tweet():\n",
    "\n",
    "    global entryWidget\n",
    "\n",
    "    if entryWidget.get().strip() == \"\":\n",
    "        print(\"Empty\")\n",
    "    else:\n",
    "        t.statuses.update(status=entryWidget.get().strip())\n",
    "        entryWidget.delete(0,END)\n",
    "        print(\"working\")\n",
    "\n",
    "\n",
    "\n",
    "# Put in token, token_key, con_secret, con_secret_key\n",
    "t = Twitter(\n",
    "    auth=OAuth('988216913284255744-qBZJ3IAkrjBAPLaMRMjhkQrLtKIzn31', 'WpcZY8dTZAQVWEJkZBlS8hMQaR9ckqOs8ErFML2x2bVAk',\n",
    "               'sRKZDEri6WsOhDmJmxxbnLvyC', 'OJO5n71PvgNE6B6JLePAlRTyOlDoTFFpWziUEE4stu0pbNNLHo'))\n",
    "numberOfTweets = 10\n",
    "\n",
    "\n",
    "\n",
    "master = Tk()\n",
    "showTweets(getTweets(), numberOfTweets)\n",
    "\n",
    "master.title(\"Tkinter Entry Widget\")\n",
    "master[\"padx\"] = 40\n",
    "master[\"pady\"] = 20\n",
    "# Create a text frame to hold the text Label and the Entry widget\n",
    "textFrame = Frame(master)\n",
    "#Create a Label in textFrame\n",
    "entryLabel = Label(textFrame)\n",
    "entryLabel[\"text\"] = \"Make a new Tweet:\"\n",
    "entryLabel.pack(side=LEFT)\n",
    "# Create an Entry Widget in textFrame\n",
    "entryWidget = Entry(textFrame)\n",
    "entryWidget[\"width\"] = 50\n",
    "entryWidget.pack(side=LEFT)\n",
    "textFrame.pack()\n",
    "button = Button(master, text=\"Submit\", command=tweet)\n",
    "button.pack()\n",
    "\n",
    "master.mainloop()\n",
    "\n",
    "\n",
    "\n",
    "\n",
    "\n",
    "\n"
   ]
  },
  {
   "cell_type": "code",
   "execution_count": null,
   "metadata": {
    "collapsed": true
   },
   "outputs": [],
   "source": []
  }
 ],
 "metadata": {
  "kernelspec": {
   "display_name": "Python 3",
   "language": "python",
   "name": "python3"
  },
  "language_info": {
   "codemirror_mode": {
    "name": "ipython",
    "version": 3
   },
   "file_extension": ".py",
   "mimetype": "text/x-python",
   "name": "python",
   "nbconvert_exporter": "python",
   "pygments_lexer": "ipython3",
   "version": "3.6.3"
  }
 },
 "nbformat": 4,
 "nbformat_minor": 2
}
